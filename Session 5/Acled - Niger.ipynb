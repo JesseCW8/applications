{
 "cells": [
  {
   "cell_type": "code",
   "execution_count": 1,
   "metadata": {},
   "outputs": [],
   "source": [
    "#import libraries\n",
    "import requests\n",
    "from datetime import datetime as dt\n",
    "from datetime import timedelta\n",
    "import pandas as pd\n"
   ]
  },
  {
   "cell_type": "code",
   "execution_count": 2,
   "metadata": {},
   "outputs": [
    {
     "name": "stdout",
     "output_type": "stream",
     "text": [
      "https://api.acleddata.com/acled/read?terms=accept&iso=562 <class 'str'>\n"
     ]
    }
   ],
   "source": [
    "# get events from n days ago\n",
    "iso = 562 #Look in ACLED documentation ISO code for number this is for Niger\n",
    "limit = 400\n",
    "\n",
    "api_url = 'https://api.acleddata.com/acled/read?terms=accept&iso={}'.format(iso)\n",
    "print (api_url, type(api_url)) #creates request according to ACLED format specifications - p. 13"
   ]
  },
  {
   "cell_type": "code",
   "execution_count": 3,
   "metadata": {},
   "outputs": [
    {
     "data": {
      "text/plain": [
       "500"
      ]
     },
     "execution_count": 3,
     "metadata": {},
     "output_type": "execute_result"
    }
   ],
   "source": [
    "response = requests.get(api_url)\n",
    "data = response.json()\n",
    "data.keys()\n",
    "data['count'] "
   ]
  },
  {
   "cell_type": "markdown",
   "metadata": {},
   "source": [
    "### From the documentation we know this is the max return --- How can we get all the results?"
   ]
  },
  {
   "cell_type": "code",
   "execution_count": 4,
   "metadata": {},
   "outputs": [],
   "source": [
    "# Let's mkae a function that updates our search to get the new pages\n",
    "\n",
    "def ping_acled(api_url): \n",
    "    '''\n",
    "    Takes one parameter search term for API\n",
    "    '''\n",
    "    \n",
    "    response = requests.get(api_url)\n",
    "    data = response.json()\n",
    "    return data\n",
    "    "
   ]
  },
  {
   "cell_type": "code",
   "execution_count": 5,
   "metadata": {},
   "outputs": [
    {
     "name": "stdout",
     "output_type": "stream",
     "text": [
      "starting  1   500\n",
      "Total Results  500\n",
      "starting  2   500\n",
      "Total Results  1000\n",
      "starting  3   500\n",
      "Total Results  1408\n"
     ]
    }
   ],
   "source": [
    "\n",
    "results = [] # empty data strcture to store results\n",
    "num_results = 500 # condition to continue adding pages\n",
    "count = 0  # tracker of results\n",
    "page = 1 #Per the documentation each page will give us more results\n",
    "\n",
    "while num_results == 500: #if less 500 or 0 we know we have all the results\n",
    "    print (\"starting \", page, \" \", num_results) #just to see our progress\n",
    "    api_url = 'https://api.acleddata.com/acled/read?terms=accept&iso={}&page={}'.format(iso,page) #the search\n",
    "    data = ping_acled(api_url) #call the previous function \n",
    "    results.append(data['data']) #store in our results\n",
    "    count += data['count'] #Track number of results\n",
    "    num_results = data['count'] #update our condition\n",
    "    page += 1 #update our page variable\n",
    "    print (\"Total Results \", count) #Track our progress\n",
    "    \n",
    "\n"
   ]
  },
  {
   "cell_type": "code",
   "execution_count": 6,
   "metadata": {},
   "outputs": [
    {
     "name": "stdout",
     "output_type": "stream",
     "text": [
      "500\n",
      "1000\n",
      "1408\n"
     ]
    }
   ],
   "source": [
    "#Now I want to put them together into one giant result\n",
    "super_list = []\n",
    "for res in results: \n",
    "    super_list += res\n",
    "    print (len(super_list))"
   ]
  },
  {
   "cell_type": "code",
   "execution_count": 7,
   "metadata": {},
   "outputs": [
    {
     "data": {
      "text/html": [
       "<div>\n",
       "<style scoped>\n",
       "    .dataframe tbody tr th:only-of-type {\n",
       "        vertical-align: middle;\n",
       "    }\n",
       "\n",
       "    .dataframe tbody tr th {\n",
       "        vertical-align: top;\n",
       "    }\n",
       "\n",
       "    .dataframe thead th {\n",
       "        text-align: right;\n",
       "    }\n",
       "</style>\n",
       "<table border=\"1\" class=\"dataframe\">\n",
       "  <thead>\n",
       "    <tr style=\"text-align: right;\">\n",
       "      <th></th>\n",
       "      <th>data_id</th>\n",
       "      <th>iso</th>\n",
       "      <th>event_id_cnty</th>\n",
       "      <th>event_id_no_cnty</th>\n",
       "      <th>event_date</th>\n",
       "      <th>year</th>\n",
       "      <th>time_precision</th>\n",
       "      <th>event_type</th>\n",
       "      <th>sub_event_type</th>\n",
       "      <th>actor1</th>\n",
       "      <th>...</th>\n",
       "      <th>location</th>\n",
       "      <th>latitude</th>\n",
       "      <th>longitude</th>\n",
       "      <th>geo_precision</th>\n",
       "      <th>source</th>\n",
       "      <th>source_scale</th>\n",
       "      <th>notes</th>\n",
       "      <th>fatalities</th>\n",
       "      <th>timestamp</th>\n",
       "      <th>iso3</th>\n",
       "    </tr>\n",
       "  </thead>\n",
       "  <tbody>\n",
       "    <tr>\n",
       "      <th>0</th>\n",
       "      <td>7233612</td>\n",
       "      <td>562</td>\n",
       "      <td>NIR1460</td>\n",
       "      <td>1460</td>\n",
       "      <td>2020-09-23</td>\n",
       "      <td>2020</td>\n",
       "      <td>1</td>\n",
       "      <td>Battles</td>\n",
       "      <td>Armed clash</td>\n",
       "      <td>Boko Haram - Jamatu Ahli is-Sunnah lid-Dawatai...</td>\n",
       "      <td>...</td>\n",
       "      <td>Alari</td>\n",
       "      <td>14.4664</td>\n",
       "      <td>13.4416</td>\n",
       "      <td>1</td>\n",
       "      <td>Jeunesse Diffa</td>\n",
       "      <td>New media</td>\n",
       "      <td>On 23 September 2020, presumed Boko Haram (JAS...</td>\n",
       "      <td>7</td>\n",
       "      <td>1601324148</td>\n",
       "      <td>NER</td>\n",
       "    </tr>\n",
       "    <tr>\n",
       "      <th>1</th>\n",
       "      <td>7233305</td>\n",
       "      <td>562</td>\n",
       "      <td>NIR1459</td>\n",
       "      <td>1459</td>\n",
       "      <td>2020-09-22</td>\n",
       "      <td>2020</td>\n",
       "      <td>1</td>\n",
       "      <td>Strategic developments</td>\n",
       "      <td>Looting/property destruction</td>\n",
       "      <td>Unidentified Armed Group (Niger)</td>\n",
       "      <td>...</td>\n",
       "      <td>Taroum</td>\n",
       "      <td>14.6744</td>\n",
       "      <td>2.2729</td>\n",
       "      <td>2</td>\n",
       "      <td>Undisclosed Source; Whatsapp</td>\n",
       "      <td>Local partner-Other</td>\n",
       "      <td>On 22 September 2020, unknown gunmen aboard mo...</td>\n",
       "      <td>0</td>\n",
       "      <td>1601324148</td>\n",
       "      <td>NER</td>\n",
       "    </tr>\n",
       "    <tr>\n",
       "      <th>2</th>\n",
       "      <td>7233937</td>\n",
       "      <td>562</td>\n",
       "      <td>NIR1458</td>\n",
       "      <td>1458</td>\n",
       "      <td>2020-09-22</td>\n",
       "      <td>2020</td>\n",
       "      <td>1</td>\n",
       "      <td>Violence against civilians</td>\n",
       "      <td>Attack</td>\n",
       "      <td>Unidentified Armed Group (Niger)</td>\n",
       "      <td>...</td>\n",
       "      <td>Kossa</td>\n",
       "      <td>14.6238</td>\n",
       "      <td>0.2657</td>\n",
       "      <td>1</td>\n",
       "      <td>Whatsapp</td>\n",
       "      <td>New media</td>\n",
       "      <td>On 22 September 2020, two unknown gunmen on a ...</td>\n",
       "      <td>1</td>\n",
       "      <td>1601324149</td>\n",
       "      <td>NER</td>\n",
       "    </tr>\n",
       "    <tr>\n",
       "      <th>3</th>\n",
       "      <td>7233304</td>\n",
       "      <td>562</td>\n",
       "      <td>NIR1457</td>\n",
       "      <td>1457</td>\n",
       "      <td>2020-09-21</td>\n",
       "      <td>2020</td>\n",
       "      <td>1</td>\n",
       "      <td>Strategic developments</td>\n",
       "      <td>Looting/property destruction</td>\n",
       "      <td>Unidentified Armed Group (Niger)</td>\n",
       "      <td>...</td>\n",
       "      <td>Zigui Zeno</td>\n",
       "      <td>15.0237</td>\n",
       "      <td>2.4502</td>\n",
       "      <td>2</td>\n",
       "      <td>L'Evenement Niger; Tadress24info; Urgence Till...</td>\n",
       "      <td>New media-National</td>\n",
       "      <td>On 21 September 2020, unknown gunmen seized an...</td>\n",
       "      <td>0</td>\n",
       "      <td>1601324147</td>\n",
       "      <td>NER</td>\n",
       "    </tr>\n",
       "    <tr>\n",
       "      <th>4</th>\n",
       "      <td>7233611</td>\n",
       "      <td>562</td>\n",
       "      <td>NIR1456</td>\n",
       "      <td>1456</td>\n",
       "      <td>2020-09-21</td>\n",
       "      <td>2020</td>\n",
       "      <td>1</td>\n",
       "      <td>Protests</td>\n",
       "      <td>Peaceful protest</td>\n",
       "      <td>Protesters (Niger)</td>\n",
       "      <td>...</td>\n",
       "      <td>Diffa</td>\n",
       "      <td>13.3200</td>\n",
       "      <td>12.6100</td>\n",
       "      <td>1</td>\n",
       "      <td>Jeunesse Diffa</td>\n",
       "      <td>New media</td>\n",
       "      <td>On 21 September 2020, a number of students sta...</td>\n",
       "      <td>0</td>\n",
       "      <td>1601324148</td>\n",
       "      <td>NER</td>\n",
       "    </tr>\n",
       "  </tbody>\n",
       "</table>\n",
       "<p>5 rows × 31 columns</p>\n",
       "</div>"
      ],
      "text/plain": [
       "   data_id  iso event_id_cnty event_id_no_cnty  event_date  year  \\\n",
       "0  7233612  562       NIR1460             1460  2020-09-23  2020   \n",
       "1  7233305  562       NIR1459             1459  2020-09-22  2020   \n",
       "2  7233937  562       NIR1458             1458  2020-09-22  2020   \n",
       "3  7233304  562       NIR1457             1457  2020-09-21  2020   \n",
       "4  7233611  562       NIR1456             1456  2020-09-21  2020   \n",
       "\n",
       "  time_precision                  event_type                sub_event_type  \\\n",
       "0              1                     Battles                   Armed clash   \n",
       "1              1      Strategic developments  Looting/property destruction   \n",
       "2              1  Violence against civilians                        Attack   \n",
       "3              1      Strategic developments  Looting/property destruction   \n",
       "4              1                    Protests              Peaceful protest   \n",
       "\n",
       "                                              actor1  ...    location  \\\n",
       "0  Boko Haram - Jamatu Ahli is-Sunnah lid-Dawatai...  ...       Alari   \n",
       "1                   Unidentified Armed Group (Niger)  ...      Taroum   \n",
       "2                   Unidentified Armed Group (Niger)  ...       Kossa   \n",
       "3                   Unidentified Armed Group (Niger)  ...  Zigui Zeno   \n",
       "4                                 Protesters (Niger)  ...       Diffa   \n",
       "\n",
       "  latitude longitude geo_precision  \\\n",
       "0  14.4664   13.4416             1   \n",
       "1  14.6744    2.2729             2   \n",
       "2  14.6238    0.2657             1   \n",
       "3  15.0237    2.4502             2   \n",
       "4  13.3200   12.6100             1   \n",
       "\n",
       "                                              source         source_scale  \\\n",
       "0                                     Jeunesse Diffa            New media   \n",
       "1                       Undisclosed Source; Whatsapp  Local partner-Other   \n",
       "2                                           Whatsapp            New media   \n",
       "3  L'Evenement Niger; Tadress24info; Urgence Till...   New media-National   \n",
       "4                                     Jeunesse Diffa            New media   \n",
       "\n",
       "                                               notes fatalities   timestamp  \\\n",
       "0  On 23 September 2020, presumed Boko Haram (JAS...          7  1601324148   \n",
       "1  On 22 September 2020, unknown gunmen aboard mo...          0  1601324148   \n",
       "2  On 22 September 2020, two unknown gunmen on a ...          1  1601324149   \n",
       "3  On 21 September 2020, unknown gunmen seized an...          0  1601324147   \n",
       "4  On 21 September 2020, a number of students sta...          0  1601324148   \n",
       "\n",
       "  iso3  \n",
       "0  NER  \n",
       "1  NER  \n",
       "2  NER  \n",
       "3  NER  \n",
       "4  NER  \n",
       "\n",
       "[5 rows x 31 columns]"
      ]
     },
     "execution_count": 7,
     "metadata": {},
     "output_type": "execute_result"
    }
   ],
   "source": [
    "#convert it into an pandas data frame or just use your data structure and do more stuff\n",
    "niger_res = pd.DataFrame(super_list)\n",
    "niger_res.head()"
   ]
  },
  {
   "cell_type": "markdown",
   "metadata": {},
   "source": [
    "### Do the right thing, take some time to look at the codebook and see what these columns are"
   ]
  },
  {
   "cell_type": "code",
   "execution_count": 11,
   "metadata": {},
   "outputs": [
    {
     "data": {
      "text/plain": [
       "Index(['data_id', 'iso', 'event_id_cnty', 'event_id_no_cnty', 'event_date',\n",
       "       'year', 'time_precision', 'event_type', 'sub_event_type', 'actor1',\n",
       "       'assoc_actor_1', 'inter1', 'actor2', 'assoc_actor_2', 'inter2',\n",
       "       'interaction', 'region', 'country', 'admin1', 'admin2', 'admin3',\n",
       "       'location', 'latitude', 'longitude', 'geo_precision', 'source',\n",
       "       'source_scale', 'notes', 'fatalities', 'timestamp', 'iso3'],\n",
       "      dtype='object')"
      ]
     },
     "execution_count": 11,
     "metadata": {},
     "output_type": "execute_result"
    }
   ],
   "source": [
    "niger_res.columns\n"
   ]
  },
  {
   "cell_type": "markdown",
   "metadata": {},
   "source": [
    "### Homework --- Make a map of some ACLED Data (absolutely use the code from the Global Terrorism Database exercise)"
   ]
  },
  {
   "cell_type": "code",
   "execution_count": null,
   "metadata": {},
   "outputs": [],
   "source": []
  }
 ],
 "metadata": {
  "kernelspec": {
   "display_name": "Python 3",
   "language": "python",
   "name": "python3"
  },
  "language_info": {
   "codemirror_mode": {
    "name": "ipython",
    "version": 3
   },
   "file_extension": ".py",
   "mimetype": "text/x-python",
   "name": "python",
   "nbconvert_exporter": "python",
   "pygments_lexer": "ipython3",
   "version": "3.7.6"
  }
 },
 "nbformat": 4,
 "nbformat_minor": 2
}
