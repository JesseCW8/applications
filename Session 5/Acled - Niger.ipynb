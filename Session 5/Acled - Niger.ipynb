{
 "cells": [
  {
   "cell_type": "code",
   "execution_count": 1,
   "metadata": {},
   "outputs": [],
   "source": [
    "#import libraries\n",
    "import requests\n",
    "from datetime import datetime as dt\n",
    "from datetime import timedelta\n",
    "import pandas as pd\n"
   ]
  },
  {
   "cell_type": "code",
   "execution_count": 2,
   "metadata": {},
   "outputs": [
    {
     "name": "stdout",
     "output_type": "stream",
     "text": [
      "https://api.acleddata.com/acled/read?terms=accept&iso=562 <class 'str'>\n"
     ]
    }
   ],
   "source": [
    "# get events from n days ago\n",
    "iso = 562 #Look in ACLED documentation ISO code for number this is for Niger\n",
    "limit = 400\n",
    "\n",
    "api_url = 'https://api.acleddata.com/acled/read?terms=accept&iso={}'.format(iso)\n",
    "print (api_url, type(api_url)) #creates request according to ACLED format specifications - p. 13"
   ]
  },
  {
   "cell_type": "code",
   "execution_count": 3,
   "metadata": {},
   "outputs": [
    {
     "data": {
      "text/plain": [
       "500"
      ]
     },
     "execution_count": 3,
     "metadata": {},
     "output_type": "execute_result"
    }
   ],
   "source": [
    "response = requests.get(api_url)\n",
    "data = response.json()\n",
    "data.keys()\n",
    "data['count'] "
   ]
  },
  {
   "cell_type": "markdown",
   "metadata": {},
   "source": [
    "### From the documentation we know this is the max return --- How can we get all the results?"
   ]
  },
  {
   "cell_type": "code",
   "execution_count": 4,
   "metadata": {},
   "outputs": [],
   "source": [
    "# Let's mkae a function that updates our search to get the new pages\n",
    "\n",
    "def ping_acled(api_url): \n",
    "    '''\n",
    "    Takes one parameter search term for API\n",
    "    '''\n",
    "    \n",
    "    response = requests.get(api_url)\n",
    "    data = response.json()\n",
    "    return data\n",
    "    "
   ]
  },
  {
   "cell_type": "code",
   "execution_count": 5,
   "metadata": {},
   "outputs": [
    {
     "name": "stdout",
     "output_type": "stream",
     "text": [
      "starting  1   500\n",
      "Total Results  500\n",
      "starting  2   500\n",
      "Total Results  1000\n",
      "starting  3   500\n",
      "Total Results  1417\n"
     ]
    }
   ],
   "source": [
    "\n",
    "results = [] # empty data strcture to store results\n",
    "num_results = 500 # condition to continue adding pages\n",
    "count = 0  # tracker of results\n",
    "page = 1 #Per the documentation each page will give us more results\n",
    "\n",
    "while num_results == 500: #if less 500 or 0 we know we have all the results\n",
    "    print (\"starting \", page, \" \", num_results) #just to see our progress\n",
    "    api_url = 'https://api.acleddata.com/acled/read?terms=accept&iso={}&page={}'.format(iso,page) #the search\n",
    "    data = ping_acled(api_url) #call the previous function \n",
    "    results.append(data['data']) #store in our results\n",
    "    count += data['count'] #Track number of results\n",
    "    num_results = data['count'] #update our condition\n",
    "    page += 1 #update our page variable\n",
    "    print (\"Total Results \", count) #Track our progress\n",
    "    \n",
    "\n"
   ]
  },
  {
   "cell_type": "code",
   "execution_count": 6,
   "metadata": {},
   "outputs": [
    {
     "name": "stdout",
     "output_type": "stream",
     "text": [
      "500\n",
      "1000\n",
      "1417\n"
     ]
    }
   ],
   "source": [
    "#Now I want to put them together into one giant result\n",
    "super_list = []\n",
    "for res in results: \n",
    "    super_list += res\n",
    "    print (len(super_list))"
   ]
  },
  {
   "cell_type": "code",
   "execution_count": 7,
   "metadata": {},
   "outputs": [
    {
     "data": {
      "text/html": [
       "<div>\n",
       "<style scoped>\n",
       "    .dataframe tbody tr th:only-of-type {\n",
       "        vertical-align: middle;\n",
       "    }\n",
       "\n",
       "    .dataframe tbody tr th {\n",
       "        vertical-align: top;\n",
       "    }\n",
       "\n",
       "    .dataframe thead th {\n",
       "        text-align: right;\n",
       "    }\n",
       "</style>\n",
       "<table border=\"1\" class=\"dataframe\">\n",
       "  <thead>\n",
       "    <tr style=\"text-align: right;\">\n",
       "      <th></th>\n",
       "      <th>data_id</th>\n",
       "      <th>iso</th>\n",
       "      <th>event_id_cnty</th>\n",
       "      <th>event_id_no_cnty</th>\n",
       "      <th>event_date</th>\n",
       "      <th>year</th>\n",
       "      <th>time_precision</th>\n",
       "      <th>event_type</th>\n",
       "      <th>sub_event_type</th>\n",
       "      <th>actor1</th>\n",
       "      <th>...</th>\n",
       "      <th>location</th>\n",
       "      <th>latitude</th>\n",
       "      <th>longitude</th>\n",
       "      <th>geo_precision</th>\n",
       "      <th>source</th>\n",
       "      <th>source_scale</th>\n",
       "      <th>notes</th>\n",
       "      <th>fatalities</th>\n",
       "      <th>timestamp</th>\n",
       "      <th>iso3</th>\n",
       "    </tr>\n",
       "  </thead>\n",
       "  <tbody>\n",
       "    <tr>\n",
       "      <th>0</th>\n",
       "      <td>7239541</td>\n",
       "      <td>562</td>\n",
       "      <td>NIR1469</td>\n",
       "      <td>1469</td>\n",
       "      <td>2020-10-03</td>\n",
       "      <td>2020</td>\n",
       "      <td>1</td>\n",
       "      <td>Riots</td>\n",
       "      <td>Mob violence</td>\n",
       "      <td>Rioters (Niger)</td>\n",
       "      <td>...</td>\n",
       "      <td>Diffa</td>\n",
       "      <td>13.3200</td>\n",
       "      <td>12.6100</td>\n",
       "      <td>1</td>\n",
       "      <td>Whatsapp</td>\n",
       "      <td>New media</td>\n",
       "      <td>On 3 October 2020, twenty-one prisoners (presu...</td>\n",
       "      <td>0</td>\n",
       "      <td>1601932936</td>\n",
       "      <td>NER</td>\n",
       "    </tr>\n",
       "    <tr>\n",
       "      <th>1</th>\n",
       "      <td>7239452</td>\n",
       "      <td>562</td>\n",
       "      <td>NIR1467</td>\n",
       "      <td>1467</td>\n",
       "      <td>2020-10-01</td>\n",
       "      <td>2020</td>\n",
       "      <td>1</td>\n",
       "      <td>Protests</td>\n",
       "      <td>Peaceful protest</td>\n",
       "      <td>Protesters (Niger)</td>\n",
       "      <td>...</td>\n",
       "      <td>Niamey</td>\n",
       "      <td>13.5200</td>\n",
       "      <td>2.1200</td>\n",
       "      <td>1</td>\n",
       "      <td>Studio Kalangou</td>\n",
       "      <td>National</td>\n",
       "      <td>On 1 October 2020, a number of teachers staged...</td>\n",
       "      <td>0</td>\n",
       "      <td>1601932936</td>\n",
       "      <td>NER</td>\n",
       "    </tr>\n",
       "    <tr>\n",
       "      <th>2</th>\n",
       "      <td>7239043</td>\n",
       "      <td>562</td>\n",
       "      <td>NIR1468</td>\n",
       "      <td>1468</td>\n",
       "      <td>2020-10-01</td>\n",
       "      <td>2020</td>\n",
       "      <td>1</td>\n",
       "      <td>Protests</td>\n",
       "      <td>Peaceful protest</td>\n",
       "      <td>Protesters (Niger)</td>\n",
       "      <td>...</td>\n",
       "      <td>Zinder</td>\n",
       "      <td>13.6500</td>\n",
       "      <td>9.1833</td>\n",
       "      <td>1</td>\n",
       "      <td>Studio Kalangou; Actu (Niger)</td>\n",
       "      <td>National</td>\n",
       "      <td>On 1 October 2020, a number of university stud...</td>\n",
       "      <td>0</td>\n",
       "      <td>1601932935</td>\n",
       "      <td>NER</td>\n",
       "    </tr>\n",
       "    <tr>\n",
       "      <th>3</th>\n",
       "      <td>7239538</td>\n",
       "      <td>562</td>\n",
       "      <td>NIR1465</td>\n",
       "      <td>1465</td>\n",
       "      <td>2020-09-30</td>\n",
       "      <td>2020</td>\n",
       "      <td>1</td>\n",
       "      <td>Violence against civilians</td>\n",
       "      <td>Attack</td>\n",
       "      <td>Military Forces of Niger (2011-)</td>\n",
       "      <td>...</td>\n",
       "      <td>Toumour</td>\n",
       "      <td>13.6669</td>\n",
       "      <td>13.1198</td>\n",
       "      <td>2</td>\n",
       "      <td>Whatsapp</td>\n",
       "      <td>New media</td>\n",
       "      <td>On 30 September 2020, Nigerien soldiers report...</td>\n",
       "      <td>2</td>\n",
       "      <td>1601932936</td>\n",
       "      <td>NER</td>\n",
       "    </tr>\n",
       "    <tr>\n",
       "      <th>4</th>\n",
       "      <td>7239540</td>\n",
       "      <td>562</td>\n",
       "      <td>NIR1466</td>\n",
       "      <td>1466</td>\n",
       "      <td>2020-09-30</td>\n",
       "      <td>2020</td>\n",
       "      <td>1</td>\n",
       "      <td>Violence against civilians</td>\n",
       "      <td>Abduction/forced disappearance</td>\n",
       "      <td>Islamic State (West Africa)</td>\n",
       "      <td>...</td>\n",
       "      <td>Zarwaram</td>\n",
       "      <td>13.1981</td>\n",
       "      <td>12.4835</td>\n",
       "      <td>1</td>\n",
       "      <td>Whatsapp</td>\n",
       "      <td>New media</td>\n",
       "      <td>On 30 September 2020, ISWAP militants reported...</td>\n",
       "      <td>0</td>\n",
       "      <td>1601932936</td>\n",
       "      <td>NER</td>\n",
       "    </tr>\n",
       "  </tbody>\n",
       "</table>\n",
       "<p>5 rows × 31 columns</p>\n",
       "</div>"
      ],
      "text/plain": [
       "   data_id  iso event_id_cnty event_id_no_cnty  event_date  year  \\\n",
       "0  7239541  562       NIR1469             1469  2020-10-03  2020   \n",
       "1  7239452  562       NIR1467             1467  2020-10-01  2020   \n",
       "2  7239043  562       NIR1468             1468  2020-10-01  2020   \n",
       "3  7239538  562       NIR1465             1465  2020-09-30  2020   \n",
       "4  7239540  562       NIR1466             1466  2020-09-30  2020   \n",
       "\n",
       "  time_precision                  event_type                  sub_event_type  \\\n",
       "0              1                       Riots                    Mob violence   \n",
       "1              1                    Protests                Peaceful protest   \n",
       "2              1                    Protests                Peaceful protest   \n",
       "3              1  Violence against civilians                          Attack   \n",
       "4              1  Violence against civilians  Abduction/forced disappearance   \n",
       "\n",
       "                             actor1  ...  location latitude longitude  \\\n",
       "0                   Rioters (Niger)  ...     Diffa  13.3200   12.6100   \n",
       "1                Protesters (Niger)  ...    Niamey  13.5200    2.1200   \n",
       "2                Protesters (Niger)  ...    Zinder  13.6500    9.1833   \n",
       "3  Military Forces of Niger (2011-)  ...   Toumour  13.6669   13.1198   \n",
       "4       Islamic State (West Africa)  ...  Zarwaram  13.1981   12.4835   \n",
       "\n",
       "  geo_precision                         source source_scale  \\\n",
       "0             1                       Whatsapp    New media   \n",
       "1             1                Studio Kalangou     National   \n",
       "2             1  Studio Kalangou; Actu (Niger)     National   \n",
       "3             2                       Whatsapp    New media   \n",
       "4             1                       Whatsapp    New media   \n",
       "\n",
       "                                               notes fatalities   timestamp  \\\n",
       "0  On 3 October 2020, twenty-one prisoners (presu...          0  1601932936   \n",
       "1  On 1 October 2020, a number of teachers staged...          0  1601932936   \n",
       "2  On 1 October 2020, a number of university stud...          0  1601932935   \n",
       "3  On 30 September 2020, Nigerien soldiers report...          2  1601932936   \n",
       "4  On 30 September 2020, ISWAP militants reported...          0  1601932936   \n",
       "\n",
       "  iso3  \n",
       "0  NER  \n",
       "1  NER  \n",
       "2  NER  \n",
       "3  NER  \n",
       "4  NER  \n",
       "\n",
       "[5 rows x 31 columns]"
      ]
     },
     "execution_count": 7,
     "metadata": {},
     "output_type": "execute_result"
    }
   ],
   "source": [
    "#convert it into an pandas data frame or just use your data structure and do more stuff\n",
    "niger_res = pd.DataFrame(super_list)\n",
    "niger_res.head()"
   ]
  },
  {
   "cell_type": "markdown",
   "metadata": {},
   "source": [
    "### Do the right thing, take some time to look at the codebook and see what these columns are"
   ]
  },
  {
   "cell_type": "code",
   "execution_count": 15,
   "metadata": {},
   "outputs": [
    {
     "data": {
      "text/plain": [
       "Index(['data_id', 'iso', 'event_id_cnty', 'event_id_no_cnty', 'event_date',\n",
       "       'year', 'time_precision', 'event_type', 'sub_event_type', 'actor1',\n",
       "       'assoc_actor_1', 'inter1', 'actor2', 'assoc_actor_2', 'inter2',\n",
       "       'interaction', 'region', 'country', 'admin1', 'admin2', 'admin3',\n",
       "       'location', 'latitude', 'longitude', 'geo_precision', 'source',\n",
       "       'source_scale', 'notes', 'fatalities', 'timestamp', 'iso3'],\n",
       "      dtype='object')"
      ]
     },
     "execution_count": 15,
     "metadata": {},
     "output_type": "execute_result"
    }
   ],
   "source": [
    "niger_res.columns\n"
   ]
  },
  {
   "cell_type": "markdown",
   "metadata": {},
   "source": [
    "### Homework --- Make a map of some ACLED Data (absolutely use the code from the Global Terrorism Database exercise)"
   ]
  },
  {
   "cell_type": "code",
   "execution_count": null,
   "metadata": {},
   "outputs": [],
   "source": []
  }
 ],
 "metadata": {
  "kernelspec": {
   "display_name": "Python 3",
   "language": "python",
   "name": "python3"
  },
  "language_info": {
   "codemirror_mode": {
    "name": "ipython",
    "version": 3
   },
   "file_extension": ".py",
   "mimetype": "text/x-python",
   "name": "python",
   "nbconvert_exporter": "python",
   "pygments_lexer": "ipython3",
   "version": "3.8.3"
  }
 },
 "nbformat": 4,
 "nbformat_minor": 4
}
